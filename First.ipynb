{
 "cells": [
  {
   "cell_type": "code",
   "execution_count": null,
   "id": "e5f3e6c9",
   "metadata": {},
   "outputs": [],
   "source": [
    "import tkinter\n",
    "from time import strftime\n",
    "\n",
    "top = tkinter.Tk()\n",
    "top.title(\"Clock\")\n",
    "top.resizable(0, 0)\n",
    "\n",
    "\n",
    "def time():\n",
    "    string = strftime(\"%H:%M:%S %p\")\n",
    "    clockTime.config(text=string)\n",
    "    clockTime.after(1000, time)\n",
    "\n",
    "\n",
    "clockTime = tkinter.Label(\n",
    "    top,\n",
    "    font=(\n",
    "        \"courier new\",\n",
    "        40,\n",
    "    ),\n",
    "    background=\"black\",\n",
    "    foreground=\"white\",\n",
    ")\n",
    "clockTime.pack(anchor=\"center\")\n",
    "time()\n",
    "top.mainloop()"
   ]
  }
 ],
 "metadata": {
  "kernelspec": {
   "display_name": "Python 3 (ipykernel)",
   "language": "python",
   "name": "python3"
  },
  "language_info": {
   "codemirror_mode": {
    "name": "ipython",
    "version": 3
   },
   "file_extension": ".py",
   "mimetype": "text/x-python",
   "name": "python",
   "nbconvert_exporter": "python",
   "pygments_lexer": "ipython3",
   "version": "3.10.4"
  }
 },
 "nbformat": 4,
 "nbformat_minor": 5
}
