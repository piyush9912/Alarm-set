{
 "cells": [
  {
   "cell_type": "code",
   "execution_count": null,
   "id": "1e2e64f6",
   "metadata": {},
   "outputs": [],
   "source": [
    "from tkinter import *\n",
    "import datetime\n",
    "import time\n",
    "import winsound\n",
    "from threading import *\n",
    "\n",
    "# create object\n",
    "root = Tk()\n",
    "root.geometry(\"500x250\")\n",
    "\n",
    "\n",
    "def Threading():\n",
    "    t1 = Thread(target=alarm)\n",
    "    t1.start()\n",
    "\n",
    "\n",
    "def alarm():\n",
    "    # alarm set to an infinite loop\n",
    "    while True:\n",
    "        # alarm set\n",
    "        set_alarm_time = f\"{hour.get()}:{minute.get()}:{second.get()}\"\n",
    "        time.sleep(1)\n",
    "\n",
    "        # get current time\n",
    "        current_time = datetime.datetime.now().strftime(\"%H:%M:%S\")\n",
    "        print(current_time, set_alarm_time)\n",
    "\n",
    "        # condition to check if set time is equal to current time\n",
    "        if current_time == set_alarm_time:\n",
    "            print(\"Wake Up now!\")\n",
    "            # play sound continuously\n",
    "            winsound.PlaySound(\n",
    "                \"sound.wav\",\n",
    "                winsound.SND_ASYNC | winsound.SND_LOOP | winsound.SND_FILENAME,\n",
    "            )\n",
    "\n",
    "\n",
    "Label(root, text=\"Alarm Clock\", font=(\"Helvetica 20 bold\"), fg=\"red\").pack(pady=10)\n",
    "Label(root, text=\"Set Time\", font=(\"Helvetica 15 bold\")).pack()"
   ]
  }
 ],
 "metadata": {
  "kernelspec": {
   "display_name": "Python 3 (ipykernel)",
   "language": "python",
   "name": "python3"
  },
  "language_info": {
   "codemirror_mode": {
    "name": "ipython",
    "version": 3
   },
   "file_extension": ".py",
   "mimetype": "text/x-python",
   "name": "python",
   "nbconvert_exporter": "python",
   "pygments_lexer": "ipython3",
   "version": "3.10.4"
  }
 },
 "nbformat": 4,
 "nbformat_minor": 5
}
